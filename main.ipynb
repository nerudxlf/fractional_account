{
  "nbformat": 4,
  "nbformat_minor": 0,
  "metadata": {
    "colab": {
      "name": "main.ipynb",
      "provenance": [],
      "authorship_tag": "ABX9TyMbZq/camGY66uK1EN7wQPS",
      "include_colab_link": true
    },
    "kernelspec": {
      "name": "python3",
      "display_name": "Python 3"
    },
    "language_info": {
      "name": "python"
    }
  },
  "cells": [
    {
      "cell_type": "markdown",
      "metadata": {
        "id": "view-in-github",
        "colab_type": "text"
      },
      "source": [
        "<a href=\"https://colab.research.google.com/github/nerudxlf/fractional_account/blob/main/main.ipynb\" target=\"_parent\"><img src=\"https://colab.research.google.com/assets/colab-badge.svg\" alt=\"Open In Colab\"/></a>"
      ]
    },
    {
      "cell_type": "code",
      "metadata": {
        "id": "9G0_vD2vzZY5"
      },
      "source": [
        "import re\n",
        "import pandas as pd\n",
        "from collections import Counter\n",
        "\n",
        "\n",
        "def count_n_scopus(data: object) -> list:\n",
        "    data_list = data[\"Авторы организаций\"].to_list()\n",
        "    affiliations_list = data[\"Организации\"].to_list()\n",
        "    i = 0\n",
        "    n_list = []\n",
        "    for elem in data_list:\n",
        "        affiliations_split = affiliations_list[i].split(\"; \")\n",
        "        elem_split = elem.split(\"; \")\n",
        "        omstu_list = []\n",
        "        total = 0\n",
        "        all_list = []\n",
        "        for item in elem_split:\n",
        "            item_split = item.split(' ')\n",
        "            for affil in affiliations_split:\n",
        "                if item.find(affil) != -1:\n",
        "                    if item.find(\"Omsk State Technical University\") != -1:\n",
        "                        author = re.sub(r'[^A-Za-z]', '', item_split[0])\n",
        "                        omstu_list.append(author)\n",
        "                        all_list.append(author)\n",
        "                    else:\n",
        "                        author = re.sub(r'[^A-Za-z]', '', item_split[0])\n",
        "                        all_list.append(author)\n",
        "        all_dict = dict(Counter(all_list))\n",
        "        n2 = len(all_dict.keys())\n",
        "        for item in omstu_list:\n",
        "            total += 1 / all_dict[item]\n",
        "        n = total / n2\n",
        "        n_list.append(n)\n",
        "        i += 1\n",
        "    return n_list\n",
        "\n",
        "\n",
        "def count_n_wos(q: object) -> list:\n",
        "    author_list = q[\"Addresses\"].to_list()\n",
        "    n_list = []\n",
        "    for item in author_list:\n",
        "        total = 0\n",
        "        omstu_list = []\n",
        "        all_list = []\n",
        "        item_split = item.split(\"[\")[1:]\n",
        "        for elem in item_split:\n",
        "            if elem.find(\"Omsk State Tech Univ\") != -1:\n",
        "                elem_split = elem.split(\"]\")\n",
        "                for i in elem_split[0].split(';'):\n",
        "                    i = re.sub(r'[^A-Za-z]', '', i)\n",
        "                    omstu_list.append(i)\n",
        "                    all_list.append(i)\n",
        "            else:\n",
        "                elem_split = elem.split(\"]\")\n",
        "                for i in elem_split[0].split(';'):\n",
        "                    i = re.sub(r'[^A-Za-z]', '', i)\n",
        "                    all_list.append(i)\n",
        "        all_dict = dict(Counter(all_list))\n",
        "        n2 = len(all_dict.keys())\n",
        "        for elem in omstu_list:\n",
        "            total += 1 / all_dict[elem]\n",
        "        n = total / n2\n",
        "        n_list.append(n)\n",
        "    return n_list"
      ],
      "execution_count": null,
      "outputs": []
    },
    {
      "cell_type": "code",
      "metadata": {
        "id": "UOFD3JBXzggJ"
      },
      "source": [
        "value_npr_2020 = 686\n",
        "value_npr_2021 = 713\n",
        "df_wos_2018_2020 = pd.read_excel(\"wos_2018-2020.xls\")\n",
        "df_wos_2019_2021 = pd.read_excel(\"wos_2019-2021.xls\")\n",
        "df_scopus_2018_2020 = pd.read_excel(\"scopus_2018_2020.xlsx\")\n",
        "df_scopus_2019_2021 = pd.read_excel(\"scopus_2019_2021.xlsx\")\n",
        "\n",
        "value_wos_2018_2020 = sum(count_n_wos(df_wos_2018_2020))\n",
        "value_wos_2019_2021 = sum(count_n_wos(df_wos_2019_2021))\n",
        "\n",
        "value_scopus_2018_2020 = sum(count_n_scopus(df_scopus_2018_2020))\n",
        "value_scopus_2019_2021 = sum(count_n_scopus(df_scopus_2019_2021))\n",
        "\n",
        "print(f\"WoS 2018-2020 = {value_wos_2018_2020}\")\n",
        "print(f\"WoS 2019-2021 = {value_wos_2019_2021}\")\n",
        "print(f\"Scopus 2018-2020 = {value_scopus_2018_2020}\")\n",
        "print(f\"Scopus 2019-2021 = {value_scopus_2019_2021}\")\n",
        "\n",
        "result_2020_wos = value_wos_2018_2020 / value_npr_2020\n",
        "result_2021_wos = value_wos_2019_2021 / value_npr_2021\n",
        "\n",
        "result_2020_scopus = value_scopus_2018_2020 / value_npr_2020\n",
        "result_2021_scopus = value_scopus_2019_2021 / value_npr_2021\n",
        "\n",
        "print(f\"Result WoS 2020 = {result_2020_wos}\")\n",
        "print(f\"Result WoS 2021 = {result_2021_wos}\")\n",
        "print(f\"Result Scopus 2020 = {result_2020_scopus}\")\n",
        "print(f\"Result Scopus 2021 = {result_2021_scopus}\")"
      ],
      "execution_count": null,
      "outputs": []
    }
  ]
}